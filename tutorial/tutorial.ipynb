{
 "cells": [
  {
   "cell_type": "markdown",
   "metadata": {},
   "source": [
    "# AdjSim Tutorial\n",
    "\n",
    "AdjSim is an agent-based modelling engine. It allows users to define simulation environments through which agents interact through ability casting and timestep iteration. It is tailored towards allowing agents to behave intelligently through the employment of Reinforcement Learning techniques such as Q-Learning. \n",
    "\n",
    "This tutorial will enumerate many of AdjSim's features through the construction of a simulation where a group of agents will play a game of tag. Lets dive in!\n",
    "\n",
    "---\n",
    "\n",
    "## The Simulation Space\n",
    "\n",
    "AdjSim simulations take place inside the fittingly named `Simulation` object.\n",
    "\n",
    "Lets begin by importing our libararies."
   ]
  },
  {
   "cell_type": "code",
   "execution_count": 2,
   "metadata": {
    "collapsed": true
   },
   "outputs": [],
   "source": [
    "import adjsim\n",
    "import numpy as np # AdjSim also heavily relies on numpy. Its usage is recommended."
   ]
  },
  {
   "cell_type": "markdown",
   "metadata": {},
   "source": [
    "We will make a trivial empty simulation to display its usage."
   ]
  },
  {
   "cell_type": "code",
   "execution_count": 3,
   "metadata": {},
   "outputs": [
    {
     "name": "stdout",
     "output_type": "stream",
     "text": [
      "Simulating timestep 100/100 - population: 0"
     ]
    }
   ],
   "source": [
    "sim = adjsim.core.Simulation()\n",
    "\n",
    "# Interactive simulation method.\n",
    "sim.start() # Begin the simulation.\n",
    "sim.step() # Take one step.\n",
    "sim.step(10) # Take 10 steps.\n",
    "sim.end() # end the simulation.\n",
    "\n",
    "# Batch simulation method.\n",
    "sim.simulate(100) # Start, Simulate for 100 timesteps, End. All in one go."
   ]
  },
  {
   "cell_type": "markdown",
   "metadata": {},
   "source": [
    "Its a little lonely in that simulation, lets add an agent."
   ]
  },
  {
   "cell_type": "code",
   "execution_count": 4,
   "metadata": {
    "scrolled": true
   },
   "outputs": [
    {
     "name": "stdout",
     "output_type": "stream",
     "text": [
      "Simulating timestep 100/100 - population: 2 "
     ]
    }
   ],
   "source": [
    "sim.agents.add(adjsim.core.Agent())\n",
    "sim.agents.add(adjsim.core.Agent())\n",
    "\n",
    "sim.simulate(100)"
   ]
  },
  {
   "cell_type": "markdown",
   "metadata": {},
   "source": [
    "Things are happening, but its a little hard to see. Lets visualize our simulation space. Simulations and agents have a hierarchal class structure. `VisualSimulation` inherits from `Simulation`, and can be used to display a 2D simulation environment."
   ]
  },
  {
   "cell_type": "code",
   "execution_count": 5,
   "metadata": {},
   "outputs": [
    {
     "name": "stdout",
     "output_type": "stream",
     "text": [
      "Simulating timestep 50/50 - population: 0 "
     ]
    }
   ],
   "source": [
    "sim = adjsim.core.VisualSimulation()\n",
    "sim.simulate(50)"
   ]
  },
  {
   "cell_type": "markdown",
   "metadata": {},
   "source": [
    "Similarly, an appropriate `VisualAgent` must be present in the simulation space if it is to be seen. The agent inheritance hierarchy is as follows:\n",
    "\n",
    "1. `Agent`: The base agent class. Contains the attributes that are minimally needed in order for an agent to be simulated.\n",
    "2. `SpatialAgent`: Adds the presence of the `pos` Attribute, allowing for a 2D position to be associated with an agent.\n",
    "3. `VisualAgent`: Adds the attributes needed for visualization on top of those of `SpatialAgent`. This is the minimum class needed for an agent to appear inside a `VisualSimulation`."
   ]
  },
  {
   "cell_type": "code",
   "execution_count": 8,
   "metadata": {},
   "outputs": [
    {
     "name": "stdout",
     "output_type": "stream",
     "text": [
      "Simulating timestep 500/500 - population: 3 "
     ]
    }
   ],
   "source": [
    "sim.agents.add(adjsim.core.VisualAgent(pos=np.array([1,1])))\n",
    "sim.simulate(50)"
   ]
  },
  {
   "cell_type": "markdown",
   "metadata": {},
   "source": [
    "Now we should see our agent! Next, lets make it do things.\n",
    "\n",
    "---\n",
    "\n",
    "## Agents\n",
    "\n",
    "Agents are simulation artifacts that manipulate the simulation environment. In the adjsim model, within each timestep agents take turns acting out their environment manipulations. One iteration of an agent's environment manipulations is known as an agent's __step__.\n",
    "\n",
    "There are two major aspects to an agent's __step__: \n",
    "\n",
    "1. A set of __actions__. An __action__ defines one distinct user-defined set of computations that the agent manipulates its environment with. It is simply a python function. The actions we will be defining in our simulation of the game of tag will be a _move_ and a _tag_ action.\n",
    "2. A decision module. Decision modules are AdjSim objects that an agent uses to choose which actions to perform, and in what order.\n",
    "\n",
    "We'll start by making an agent that can _move_, but that can't _tag_. The _move_ action will allow an agent to move in a random direction bounded by a square arena."
   ]
  },
  {
   "cell_type": "code",
   "execution_count": 12,
   "metadata": {
    "collapsed": true
   },
   "outputs": [],
   "source": [
    "# Constants.\n",
    "ARENA_BOUND = 100\n",
    "MOVE_DIST = 20\n",
    "\n",
    "# Actions must follos the following signiature. \n",
    "# The Simulation object will be passed in as the 'simulation' parameter.\n",
    "# The agent calling the action will be passed as the 'source' parameter.\n",
    "def move(simulation, source):\n",
    "    movement = (np.random.rand(2) - 0.5) * MOVE_DIST\n",
    "    source.pos = np.clip(source.pos + movement, -ARENA_BOUND, ARENA_BOUND)\n",
    "    source.step_complete = True"
   ]
  },
  {
   "cell_type": "markdown",
   "metadata": {},
   "source": [
    "The final line, `source.step_complete = True`, lets the decision module know that no further actions can be completed in the agent's __step__ after the current one. \n",
    "\n",
    "Now let's create an agent that uses this action. The agent we will be creating will have a `RandomRepeatedCastDecision`. This decision module will randomly select actions and invoke them until the `source.step_complete` attribute is true. This should result in one cast of the above-defined _move_ action."
   ]
  },
  {
   "cell_type": "code",
   "execution_count": 13,
   "metadata": {
    "collapsed": true
   },
   "outputs": [],
   "source": [
    "class Mover(adjsim.core.VisualAgent):\n",
    "    def __init__(self, x, y):\n",
    "        super().__init__(pos=np.array([x, y]))\n",
    "        \n",
    "        # Set the decision module.\n",
    "        self.decision = adjsim.decision.RandomSingleCastDecision()\n",
    "\n",
    "        # Populate the agent's action list.\n",
    "        self.actions[\"move\"] = move"
   ]
  },
  {
   "cell_type": "markdown",
   "metadata": {},
   "source": [
    "Let's take it out for a spin."
   ]
  },
  {
   "cell_type": "code",
   "execution_count": 14,
   "metadata": {},
   "outputs": [
    {
     "name": "stdout",
     "output_type": "stream",
     "text": [
      "Simulating timestep 50/50 - population: 1 "
     ]
    }
   ],
   "source": [
    "sim = adjsim.core.VisualSimulation()\n",
    "sim.agents.add(Mover(0, 0))\n",
    "\n",
    "sim.simulate(50)"
   ]
  },
  {
   "cell_type": "markdown",
   "metadata": {},
   "source": [
    "We observe an agent moving in random directions in each timestep. Nice! Lets give it some friends."
   ]
  },
  {
   "cell_type": "code",
   "execution_count": 15,
   "metadata": {},
   "outputs": [
    {
     "name": "stdout",
     "output_type": "stream",
     "text": [
      "Simulating timestep 50/50 - population: 25 "
     ]
    }
   ],
   "source": [
    "class MoverSimulation(adjsim.core.VisualSimulation):\n",
    "    def __init__(self):\n",
    "        super().__init__()\n",
    "\n",
    "        for i in range(5):\n",
    "            for j in range(5):\n",
    "                self.agents.add(Mover(20*i, 20*j))\n",
    "                \n",
    "sim = MoverSimulation()\n",
    "sim.simulate(50)"
   ]
  },
  {
   "cell_type": "markdown",
   "metadata": {},
   "source": [
    "We should now see a group of 25 agents moving in a similar fashion to our first one. The basics are now covered. Lets put together our simulation of a game of tag.\n",
    "\n",
    "---\n",
    "\n",
    "## Putting It All Together\n",
    "\n",
    "The following will describe our simulation of a game of tag."
   ]
  },
  {
   "cell_type": "code",
   "execution_count": 16,
   "metadata": {},
   "outputs": [
    {
     "name": "stdout",
     "output_type": "stream",
     "text": [
      "Simulating timestep 50/50 - population: 26 "
     ]
    }
   ],
   "source": [
    "# Reiterate imports.\n",
    "import adjsim\n",
    "import numpy as np\n",
    "import sys\n",
    "\n",
    "# Constants.\n",
    "ARENA_BOUND = 100\n",
    "TAG_DIST_SQUARE = 100\n",
    "MOVE_DIST = 20\n",
    "\n",
    "def move(simulation, source):\n",
    "    movement = (np.random.rand(2) - 0.5) * MOVE_DIST\n",
    "    source.pos = np.clip(source.pos + movement, -ARENA_BOUND, ARENA_BOUND)\n",
    "    source.step_complete = True\n",
    "\n",
    "def tag(simulation, source):  \n",
    "    if not source.is_it:\n",
    "        return\n",
    "\n",
    "    # Find nearest neighbour.\n",
    "    closest_distance = sys.float_info.max\n",
    "    nearest_neighbour = None\n",
    "    for agent in simulation.agents:\n",
    "        if agent.id == source.id:\n",
    "            continue\n",
    "\n",
    "        distance = adjsim.utility.distance_square(agent, source)\n",
    "        if distance < closest_distance:\n",
    "            nearest_neighbour = agent\n",
    "            closest_distance = distance\n",
    "\n",
    "    if closest_distance > TAG_DIST_SQUARE:\n",
    "        return\n",
    "\n",
    "    assert nearest_neighbour\n",
    "\n",
    "    # Perform Tag.\n",
    "    nearest_neighbour.is_it = True\n",
    "    nearest_neighbour.color = adjsim.color.RED_DARK # This will change the agent's visual color.\n",
    "    nearest_neighbour.order = 1 # Order describes what order the agents will take their steps in the simulation loop.\n",
    "    source.is_it = False\n",
    "    source.order = 0 # Order describes what order the agents will take their steps in the simulation loop.\n",
    "    source.color = adjsim.color.BLUE_DARK # This will change the agent's visual color.\n",
    "\n",
    "class Tagger(adjsim.core.VisualAgent):\n",
    "\n",
    "    def __init__(self, x, y, is_it):\n",
    "        super().__init__()\n",
    "\n",
    "        self.is_it = is_it\n",
    "        self.color = adjsim.color.RED_DARK if is_it else adjsim.color.BLUE_DARK\n",
    "        self.pos = np.array([x, y])\n",
    "        self.decision = adjsim.decision.RandomSingleCastDecision()\n",
    "\n",
    "        self.actions[\"move\"] = move\n",
    "        self.actions[\"tag\"] = tag\n",
    "\n",
    "        if is_it:\n",
    "            self.order = 1 # Order describes what order the agents will take their steps in the simulation loop.\n",
    "\n",
    "\n",
    "class TaggerSimulation(adjsim.core.VisualSimulation):\n",
    "\n",
    "    def __init__(self):\n",
    "        super().__init__()\n",
    "\n",
    "        for i in range(5):\n",
    "            for j in range(5):\n",
    "                self.agents.add(Tagger(20*i, 20*j, False))\n",
    "\n",
    "        self.agents.add(Tagger(10, 10, True))\n",
    "        \n",
    "sim = TaggerSimulation()\n",
    "sim.simulate(50)"
   ]
  },
  {
   "cell_type": "markdown",
   "metadata": {},
   "source": [
    "And that's it! We should observe a game of tag being played where the 'it' agent is red. It will tag the agents around it when it has the chance. \n",
    "\n",
    "---\n",
    "\n",
    "## Filling the Noggin\n",
    "\n",
    "These agents act randomly. Let's fix that."
   ]
  },
  {
   "cell_type": "code",
   "execution_count": null,
   "metadata": {
    "collapsed": true
   },
   "outputs": [],
   "source": []
  }
 ],
 "metadata": {
  "kernelspec": {
   "display_name": "Python 3",
   "language": "python",
   "name": "python3"
  },
  "language_info": {
   "codemirror_mode": {
    "name": "ipython",
    "version": 3
   },
   "file_extension": ".py",
   "mimetype": "text/x-python",
   "name": "python",
   "nbconvert_exporter": "python",
   "pygments_lexer": "ipython3",
   "version": "3.6.2"
  }
 },
 "nbformat": 4,
 "nbformat_minor": 2
}
